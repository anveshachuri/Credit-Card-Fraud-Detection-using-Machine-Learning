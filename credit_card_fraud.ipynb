{
 "cells": [
  {
   "cell_type": "markdown",
   "id": "fbdf9b4b-63a3-4e00-a85f-ed257d558d47",
   "metadata": {},
   "source": [
    "# Credit Fraud Detection "
   ]
  },
  {
   "cell_type": "markdown",
   "id": "ebfc6c09-4b04-4260-8550-3a68be4f5144",
   "metadata": {},
   "source": [
    "## loading the data"
   ]
  },
  {
   "cell_type": "code",
   "execution_count": 1,
   "id": "a8903c88-4adc-40bf-8d96-c77622a63d65",
   "metadata": {},
   "outputs": [],
   "source": [
    "import pandas as pd\n",
    "import numpy as np\n",
    "import matplotlib.pyplot as plt\n",
    "import seaborn as sns"
   ]
  },
  {
   "cell_type": "code",
   "execution_count": 2,
   "id": "4dced6ab-872b-493a-ab02-259dc7f297b2",
   "metadata": {},
   "outputs": [],
   "source": [
    "# loading the data\n",
    "df= pd.read_csv('creditcard.csv')"
   ]
  },
  {
   "cell_type": "markdown",
   "id": "056d28e9-b36d-444a-9630-e133993a6726",
   "metadata": {},
   "source": [
    "## understanding the data"
   ]
  },
  {
   "cell_type": "code",
   "execution_count": 3,
   "id": "727f62ad-965d-414f-ba0c-cea8451703aa",
   "metadata": {},
   "outputs": [
    {
     "data": {
      "text/html": [
       "<div>\n",
       "<style scoped>\n",
       "    .dataframe tbody tr th:only-of-type {\n",
       "        vertical-align: middle;\n",
       "    }\n",
       "\n",
       "    .dataframe tbody tr th {\n",
       "        vertical-align: top;\n",
       "    }\n",
       "\n",
       "    .dataframe thead th {\n",
       "        text-align: right;\n",
       "    }\n",
       "</style>\n",
       "<table border=\"1\" class=\"dataframe\">\n",
       "  <thead>\n",
       "    <tr style=\"text-align: right;\">\n",
       "      <th></th>\n",
       "      <th>Time</th>\n",
       "      <th>V1</th>\n",
       "      <th>V2</th>\n",
       "      <th>V3</th>\n",
       "      <th>V4</th>\n",
       "      <th>V5</th>\n",
       "      <th>V6</th>\n",
       "      <th>V7</th>\n",
       "      <th>V8</th>\n",
       "      <th>V9</th>\n",
       "      <th>...</th>\n",
       "      <th>V21</th>\n",
       "      <th>V22</th>\n",
       "      <th>V23</th>\n",
       "      <th>V24</th>\n",
       "      <th>V25</th>\n",
       "      <th>V26</th>\n",
       "      <th>V27</th>\n",
       "      <th>V28</th>\n",
       "      <th>Amount</th>\n",
       "      <th>Class</th>\n",
       "    </tr>\n",
       "  </thead>\n",
       "  <tbody>\n",
       "    <tr>\n",
       "      <th>0</th>\n",
       "      <td>0.0</td>\n",
       "      <td>-1.359807</td>\n",
       "      <td>-0.072781</td>\n",
       "      <td>2.536347</td>\n",
       "      <td>1.378155</td>\n",
       "      <td>-0.338321</td>\n",
       "      <td>0.462388</td>\n",
       "      <td>0.239599</td>\n",
       "      <td>0.098698</td>\n",
       "      <td>0.363787</td>\n",
       "      <td>...</td>\n",
       "      <td>-0.018307</td>\n",
       "      <td>0.277838</td>\n",
       "      <td>-0.110474</td>\n",
       "      <td>0.066928</td>\n",
       "      <td>0.128539</td>\n",
       "      <td>-0.189115</td>\n",
       "      <td>0.133558</td>\n",
       "      <td>-0.021053</td>\n",
       "      <td>149.62</td>\n",
       "      <td>0</td>\n",
       "    </tr>\n",
       "    <tr>\n",
       "      <th>1</th>\n",
       "      <td>0.0</td>\n",
       "      <td>1.191857</td>\n",
       "      <td>0.266151</td>\n",
       "      <td>0.166480</td>\n",
       "      <td>0.448154</td>\n",
       "      <td>0.060018</td>\n",
       "      <td>-0.082361</td>\n",
       "      <td>-0.078803</td>\n",
       "      <td>0.085102</td>\n",
       "      <td>-0.255425</td>\n",
       "      <td>...</td>\n",
       "      <td>-0.225775</td>\n",
       "      <td>-0.638672</td>\n",
       "      <td>0.101288</td>\n",
       "      <td>-0.339846</td>\n",
       "      <td>0.167170</td>\n",
       "      <td>0.125895</td>\n",
       "      <td>-0.008983</td>\n",
       "      <td>0.014724</td>\n",
       "      <td>2.69</td>\n",
       "      <td>0</td>\n",
       "    </tr>\n",
       "    <tr>\n",
       "      <th>2</th>\n",
       "      <td>1.0</td>\n",
       "      <td>-1.358354</td>\n",
       "      <td>-1.340163</td>\n",
       "      <td>1.773209</td>\n",
       "      <td>0.379780</td>\n",
       "      <td>-0.503198</td>\n",
       "      <td>1.800499</td>\n",
       "      <td>0.791461</td>\n",
       "      <td>0.247676</td>\n",
       "      <td>-1.514654</td>\n",
       "      <td>...</td>\n",
       "      <td>0.247998</td>\n",
       "      <td>0.771679</td>\n",
       "      <td>0.909412</td>\n",
       "      <td>-0.689281</td>\n",
       "      <td>-0.327642</td>\n",
       "      <td>-0.139097</td>\n",
       "      <td>-0.055353</td>\n",
       "      <td>-0.059752</td>\n",
       "      <td>378.66</td>\n",
       "      <td>0</td>\n",
       "    </tr>\n",
       "    <tr>\n",
       "      <th>3</th>\n",
       "      <td>1.0</td>\n",
       "      <td>-0.966272</td>\n",
       "      <td>-0.185226</td>\n",
       "      <td>1.792993</td>\n",
       "      <td>-0.863291</td>\n",
       "      <td>-0.010309</td>\n",
       "      <td>1.247203</td>\n",
       "      <td>0.237609</td>\n",
       "      <td>0.377436</td>\n",
       "      <td>-1.387024</td>\n",
       "      <td>...</td>\n",
       "      <td>-0.108300</td>\n",
       "      <td>0.005274</td>\n",
       "      <td>-0.190321</td>\n",
       "      <td>-1.175575</td>\n",
       "      <td>0.647376</td>\n",
       "      <td>-0.221929</td>\n",
       "      <td>0.062723</td>\n",
       "      <td>0.061458</td>\n",
       "      <td>123.50</td>\n",
       "      <td>0</td>\n",
       "    </tr>\n",
       "    <tr>\n",
       "      <th>4</th>\n",
       "      <td>2.0</td>\n",
       "      <td>-1.158233</td>\n",
       "      <td>0.877737</td>\n",
       "      <td>1.548718</td>\n",
       "      <td>0.403034</td>\n",
       "      <td>-0.407193</td>\n",
       "      <td>0.095921</td>\n",
       "      <td>0.592941</td>\n",
       "      <td>-0.270533</td>\n",
       "      <td>0.817739</td>\n",
       "      <td>...</td>\n",
       "      <td>-0.009431</td>\n",
       "      <td>0.798278</td>\n",
       "      <td>-0.137458</td>\n",
       "      <td>0.141267</td>\n",
       "      <td>-0.206010</td>\n",
       "      <td>0.502292</td>\n",
       "      <td>0.219422</td>\n",
       "      <td>0.215153</td>\n",
       "      <td>69.99</td>\n",
       "      <td>0</td>\n",
       "    </tr>\n",
       "    <tr>\n",
       "      <th>5</th>\n",
       "      <td>2.0</td>\n",
       "      <td>-0.425966</td>\n",
       "      <td>0.960523</td>\n",
       "      <td>1.141109</td>\n",
       "      <td>-0.168252</td>\n",
       "      <td>0.420987</td>\n",
       "      <td>-0.029728</td>\n",
       "      <td>0.476201</td>\n",
       "      <td>0.260314</td>\n",
       "      <td>-0.568671</td>\n",
       "      <td>...</td>\n",
       "      <td>-0.208254</td>\n",
       "      <td>-0.559825</td>\n",
       "      <td>-0.026398</td>\n",
       "      <td>-0.371427</td>\n",
       "      <td>-0.232794</td>\n",
       "      <td>0.105915</td>\n",
       "      <td>0.253844</td>\n",
       "      <td>0.081080</td>\n",
       "      <td>3.67</td>\n",
       "      <td>0</td>\n",
       "    </tr>\n",
       "    <tr>\n",
       "      <th>6</th>\n",
       "      <td>4.0</td>\n",
       "      <td>1.229658</td>\n",
       "      <td>0.141004</td>\n",
       "      <td>0.045371</td>\n",
       "      <td>1.202613</td>\n",
       "      <td>0.191881</td>\n",
       "      <td>0.272708</td>\n",
       "      <td>-0.005159</td>\n",
       "      <td>0.081213</td>\n",
       "      <td>0.464960</td>\n",
       "      <td>...</td>\n",
       "      <td>-0.167716</td>\n",
       "      <td>-0.270710</td>\n",
       "      <td>-0.154104</td>\n",
       "      <td>-0.780055</td>\n",
       "      <td>0.750137</td>\n",
       "      <td>-0.257237</td>\n",
       "      <td>0.034507</td>\n",
       "      <td>0.005168</td>\n",
       "      <td>4.99</td>\n",
       "      <td>0</td>\n",
       "    </tr>\n",
       "    <tr>\n",
       "      <th>7</th>\n",
       "      <td>7.0</td>\n",
       "      <td>-0.644269</td>\n",
       "      <td>1.417964</td>\n",
       "      <td>1.074380</td>\n",
       "      <td>-0.492199</td>\n",
       "      <td>0.948934</td>\n",
       "      <td>0.428118</td>\n",
       "      <td>1.120631</td>\n",
       "      <td>-3.807864</td>\n",
       "      <td>0.615375</td>\n",
       "      <td>...</td>\n",
       "      <td>1.943465</td>\n",
       "      <td>-1.015455</td>\n",
       "      <td>0.057504</td>\n",
       "      <td>-0.649709</td>\n",
       "      <td>-0.415267</td>\n",
       "      <td>-0.051634</td>\n",
       "      <td>-1.206921</td>\n",
       "      <td>-1.085339</td>\n",
       "      <td>40.80</td>\n",
       "      <td>0</td>\n",
       "    </tr>\n",
       "    <tr>\n",
       "      <th>8</th>\n",
       "      <td>7.0</td>\n",
       "      <td>-0.894286</td>\n",
       "      <td>0.286157</td>\n",
       "      <td>-0.113192</td>\n",
       "      <td>-0.271526</td>\n",
       "      <td>2.669599</td>\n",
       "      <td>3.721818</td>\n",
       "      <td>0.370145</td>\n",
       "      <td>0.851084</td>\n",
       "      <td>-0.392048</td>\n",
       "      <td>...</td>\n",
       "      <td>-0.073425</td>\n",
       "      <td>-0.268092</td>\n",
       "      <td>-0.204233</td>\n",
       "      <td>1.011592</td>\n",
       "      <td>0.373205</td>\n",
       "      <td>-0.384157</td>\n",
       "      <td>0.011747</td>\n",
       "      <td>0.142404</td>\n",
       "      <td>93.20</td>\n",
       "      <td>0</td>\n",
       "    </tr>\n",
       "    <tr>\n",
       "      <th>9</th>\n",
       "      <td>9.0</td>\n",
       "      <td>-0.338262</td>\n",
       "      <td>1.119593</td>\n",
       "      <td>1.044367</td>\n",
       "      <td>-0.222187</td>\n",
       "      <td>0.499361</td>\n",
       "      <td>-0.246761</td>\n",
       "      <td>0.651583</td>\n",
       "      <td>0.069539</td>\n",
       "      <td>-0.736727</td>\n",
       "      <td>...</td>\n",
       "      <td>-0.246914</td>\n",
       "      <td>-0.633753</td>\n",
       "      <td>-0.120794</td>\n",
       "      <td>-0.385050</td>\n",
       "      <td>-0.069733</td>\n",
       "      <td>0.094199</td>\n",
       "      <td>0.246219</td>\n",
       "      <td>0.083076</td>\n",
       "      <td>3.68</td>\n",
       "      <td>0</td>\n",
       "    </tr>\n",
       "  </tbody>\n",
       "</table>\n",
       "<p>10 rows × 31 columns</p>\n",
       "</div>"
      ],
      "text/plain": [
       "   Time        V1        V2        V3        V4        V5        V6        V7  \\\n",
       "0   0.0 -1.359807 -0.072781  2.536347  1.378155 -0.338321  0.462388  0.239599   \n",
       "1   0.0  1.191857  0.266151  0.166480  0.448154  0.060018 -0.082361 -0.078803   \n",
       "2   1.0 -1.358354 -1.340163  1.773209  0.379780 -0.503198  1.800499  0.791461   \n",
       "3   1.0 -0.966272 -0.185226  1.792993 -0.863291 -0.010309  1.247203  0.237609   \n",
       "4   2.0 -1.158233  0.877737  1.548718  0.403034 -0.407193  0.095921  0.592941   \n",
       "5   2.0 -0.425966  0.960523  1.141109 -0.168252  0.420987 -0.029728  0.476201   \n",
       "6   4.0  1.229658  0.141004  0.045371  1.202613  0.191881  0.272708 -0.005159   \n",
       "7   7.0 -0.644269  1.417964  1.074380 -0.492199  0.948934  0.428118  1.120631   \n",
       "8   7.0 -0.894286  0.286157 -0.113192 -0.271526  2.669599  3.721818  0.370145   \n",
       "9   9.0 -0.338262  1.119593  1.044367 -0.222187  0.499361 -0.246761  0.651583   \n",
       "\n",
       "         V8        V9  ...       V21       V22       V23       V24       V25  \\\n",
       "0  0.098698  0.363787  ... -0.018307  0.277838 -0.110474  0.066928  0.128539   \n",
       "1  0.085102 -0.255425  ... -0.225775 -0.638672  0.101288 -0.339846  0.167170   \n",
       "2  0.247676 -1.514654  ...  0.247998  0.771679  0.909412 -0.689281 -0.327642   \n",
       "3  0.377436 -1.387024  ... -0.108300  0.005274 -0.190321 -1.175575  0.647376   \n",
       "4 -0.270533  0.817739  ... -0.009431  0.798278 -0.137458  0.141267 -0.206010   \n",
       "5  0.260314 -0.568671  ... -0.208254 -0.559825 -0.026398 -0.371427 -0.232794   \n",
       "6  0.081213  0.464960  ... -0.167716 -0.270710 -0.154104 -0.780055  0.750137   \n",
       "7 -3.807864  0.615375  ...  1.943465 -1.015455  0.057504 -0.649709 -0.415267   \n",
       "8  0.851084 -0.392048  ... -0.073425 -0.268092 -0.204233  1.011592  0.373205   \n",
       "9  0.069539 -0.736727  ... -0.246914 -0.633753 -0.120794 -0.385050 -0.069733   \n",
       "\n",
       "        V26       V27       V28  Amount  Class  \n",
       "0 -0.189115  0.133558 -0.021053  149.62      0  \n",
       "1  0.125895 -0.008983  0.014724    2.69      0  \n",
       "2 -0.139097 -0.055353 -0.059752  378.66      0  \n",
       "3 -0.221929  0.062723  0.061458  123.50      0  \n",
       "4  0.502292  0.219422  0.215153   69.99      0  \n",
       "5  0.105915  0.253844  0.081080    3.67      0  \n",
       "6 -0.257237  0.034507  0.005168    4.99      0  \n",
       "7 -0.051634 -1.206921 -1.085339   40.80      0  \n",
       "8 -0.384157  0.011747  0.142404   93.20      0  \n",
       "9  0.094199  0.246219  0.083076    3.68      0  \n",
       "\n",
       "[10 rows x 31 columns]"
      ]
     },
     "execution_count": 3,
     "metadata": {},
     "output_type": "execute_result"
    }
   ],
   "source": [
    "df.head(10)"
   ]
  },
  {
   "cell_type": "code",
   "execution_count": 4,
   "id": "d6a1d4e3-9bfd-415f-9f32-25bc55a5cd1d",
   "metadata": {},
   "outputs": [
    {
     "data": {
      "text/plain": [
       "(284807, 31)"
      ]
     },
     "execution_count": 4,
     "metadata": {},
     "output_type": "execute_result"
    }
   ],
   "source": [
    "df.shape"
   ]
  },
  {
   "cell_type": "code",
   "execution_count": 5,
   "id": "e8cbdf3b-17f4-4924-bfcf-66fd9eda06c7",
   "metadata": {},
   "outputs": [
    {
     "name": "stdout",
     "output_type": "stream",
     "text": [
      "<class 'pandas.core.frame.DataFrame'>\n",
      "RangeIndex: 284807 entries, 0 to 284806\n",
      "Data columns (total 31 columns):\n",
      " #   Column  Non-Null Count   Dtype  \n",
      "---  ------  --------------   -----  \n",
      " 0   Time    284807 non-null  float64\n",
      " 1   V1      284807 non-null  float64\n",
      " 2   V2      284807 non-null  float64\n",
      " 3   V3      284807 non-null  float64\n",
      " 4   V4      284807 non-null  float64\n",
      " 5   V5      284807 non-null  float64\n",
      " 6   V6      284807 non-null  float64\n",
      " 7   V7      284807 non-null  float64\n",
      " 8   V8      284807 non-null  float64\n",
      " 9   V9      284807 non-null  float64\n",
      " 10  V10     284807 non-null  float64\n",
      " 11  V11     284807 non-null  float64\n",
      " 12  V12     284807 non-null  float64\n",
      " 13  V13     284807 non-null  float64\n",
      " 14  V14     284807 non-null  float64\n",
      " 15  V15     284807 non-null  float64\n",
      " 16  V16     284807 non-null  float64\n",
      " 17  V17     284807 non-null  float64\n",
      " 18  V18     284807 non-null  float64\n",
      " 19  V19     284807 non-null  float64\n",
      " 20  V20     284807 non-null  float64\n",
      " 21  V21     284807 non-null  float64\n",
      " 22  V22     284807 non-null  float64\n",
      " 23  V23     284807 non-null  float64\n",
      " 24  V24     284807 non-null  float64\n",
      " 25  V25     284807 non-null  float64\n",
      " 26  V26     284807 non-null  float64\n",
      " 27  V27     284807 non-null  float64\n",
      " 28  V28     284807 non-null  float64\n",
      " 29  Amount  284807 non-null  float64\n",
      " 30  Class   284807 non-null  int64  \n",
      "dtypes: float64(30), int64(1)\n",
      "memory usage: 67.4 MB\n"
     ]
    }
   ],
   "source": [
    "df.info()"
   ]
  },
  {
   "cell_type": "markdown",
   "id": "1216b74e-bb0b-4d3f-b9bd-c49f2ed20cee",
   "metadata": {},
   "source": [
    "## data preprocessing"
   ]
  },
  {
   "cell_type": "code",
   "execution_count": 6,
   "id": "1134db98-3a52-49b6-be00-10940333356c",
   "metadata": {},
   "outputs": [],
   "source": [
    "# splitting features and target variable\n",
    "X = df.drop(['Class'], axis=1)\n",
    "y = df['Class']"
   ]
  },
  {
   "cell_type": "code",
   "execution_count": 7,
   "id": "81307e03-ff66-4b0f-be05-67444fcaf9e6",
   "metadata": {},
   "outputs": [],
   "source": [
    "from sklearn.ensemble import IsolationForest, RandomForestClassifier, AdaBoostClassifier, BaggingClassifier, StackingClassifier"
   ]
  },
  {
   "cell_type": "code",
   "execution_count": 8,
   "id": "49ea9438-6c11-40df-aa50-0410149730ba",
   "metadata": {},
   "outputs": [],
   "source": [
    "iso_forest = IsolationForest(contamination=0.01, random_state=42)\n",
    "outliers = iso_forest.fit_predict(X)"
   ]
  },
  {
   "cell_type": "code",
   "execution_count": 9,
   "id": "9d36b4f5-33de-4b5e-a000-5c61aaf695cb",
   "metadata": {},
   "outputs": [],
   "source": [
    "# filtering out the outliers\n",
    "mask = outliers != -1\n",
    "X, y =X[mask], y[mask]"
   ]
  },
  {
   "cell_type": "markdown",
   "id": "89cd138c-035a-4d37-b5af-52fbe90dd425",
   "metadata": {},
   "source": [
    "## model creation"
   ]
  },
  {
   "cell_type": "code",
   "execution_count": 10,
   "id": "69065fe0-4ed2-4f29-8c18-a7e9f6e5cfb5",
   "metadata": {},
   "outputs": [],
   "source": [
    "from sklearn.preprocessing import StandardScaler\n",
    "from sklearn.tree import DecisionTreeClassifier\n",
    "from sklearn.neighbors import KNeighborsClassifier\n",
    "import xgboost as xgb\n",
    "import lightgbm as lgb\n",
    "import catboost as catb"
   ]
  },
  {
   "cell_type": "code",
   "execution_count": 11,
   "id": "fb93322a-edb7-4714-b7c4-65ebbe90ed17",
   "metadata": {},
   "outputs": [],
   "source": [
    "#standardizing the data\n",
    "scaler = StandardScaler()\n",
    "X_scaled = scaler.fit_transform(X)"
   ]
  },
  {
   "cell_type": "code",
   "execution_count": 12,
   "id": "2adb77e4-6fda-4b54-8c1d-3b6e74a8ef62",
   "metadata": {},
   "outputs": [],
   "source": [
    "from sklearn.model_selection import train_test_split, GridSearchCV\n",
    "from sklearn.metrics import accuracy_score, confusion_matrix, precision_score, recall_score, f1_score"
   ]
  },
  {
   "cell_type": "code",
   "execution_count": 13,
   "id": "44e456d5-6963-42e8-95c3-0e531a1b4d10",
   "metadata": {},
   "outputs": [],
   "source": [
    "# Splitting the dataset\n",
    "X_train, X_test, y_train, y_test = train_test_split(X_scaled, y, test_size=0.2, random_state=42, stratify=y)"
   ]
  },
  {
   "cell_type": "code",
   "execution_count": 14,
   "id": "0b031d96-a2e5-45ed-b76a-03be83028437",
   "metadata": {},
   "outputs": [],
   "source": [
    "from imblearn.over_sampling import SMOTE"
   ]
  },
  {
   "cell_type": "code",
   "execution_count": 15,
   "id": "c3346897-a0e1-41f3-b83c-d091bb268ce4",
   "metadata": {},
   "outputs": [],
   "source": [
    "pd.options.display.max_columns=None"
   ]
  },
  {
   "cell_type": "code",
   "execution_count": 16,
   "id": "b5c397ab-431f-4437-85ca-e6a66b0cb903",
   "metadata": {},
   "outputs": [],
   "source": [
    "# Applying SMOTE to the training data\n",
    "smote = SMOTE(random_state=42)\n",
    "X_train_resampled, y_train_resampled = smote.fit_resample(X_train, y_train)"
   ]
  },
  {
   "cell_type": "code",
   "execution_count": 17,
   "id": "f7c49a33-e092-4430-bdc7-bacc0d8edfc4",
   "metadata": {},
   "outputs": [],
   "source": [
    "# function to evaluate model \n",
    "def evaluate_model(model, X_train, y_train, X_test, y_test):\n",
    "    y_pred = model.predict(X_test)\n",
    "    accuracy = accuracy_score(y_test, y_pred)\n",
    "    precision = precision_score(y_test, y_pred)\n",
    "    recall = recall_score(y_test, y_pred)\n",
    "    f1 = f1_score(y_test, y_pred)\n",
    "    tn, fp, fn, tp = confusion_matrix(y_test, y_pred).ravel()\n",
    "    return accuracy, precision, recall, f1, tn, fp, fn, tp\n",
    "\n",
    "# Initialize results list\n",
    "results = []"
   ]
  },
  {
   "cell_type": "markdown",
   "id": "634334fc-c2ad-4c39-96bb-50f9ead6176b",
   "metadata": {},
   "source": [
    "### decision tree"
   ]
  },
  {
   "cell_type": "code",
   "execution_count": 19,
   "id": "a44a82de-c939-4b3a-86b3-38431a0db4eb",
   "metadata": {},
   "outputs": [],
   "source": [
    "dt_params = {'max_depth': [5, 10, 15]}\n",
    "dt_grid_search = GridSearchCV(DecisionTreeClassifier(), dt_params, scoring='accuracy', cv=3, n_jobs=-1)\n",
    "dt_grid_search.fit(X_train_resampled, y_train_resampled)\n",
    "dt_best_model = dt_grid_search.best_estimator_\n",
    "dt_accuracy, dt_precision, dt_recall, dt_f1, dt_tn, dt_fp, dt_fn, dt_tp = evaluate_model(dt_best_model, X_train_resampled, y_train_resampled, X_test, y_test)\n"
   ]
  },
  {
   "cell_type": "code",
   "execution_count": 20,
   "id": "bd5163a3-a697-49ae-b9b6-721425fdd4e2",
   "metadata": {},
   "outputs": [],
   "source": [
    "results.append({\n",
    "    'Model': 'DecisionTree',\n",
    "    'Accuracy': dt_accuracy,\n",
    "    'Precision': dt_precision,\n",
    "    'Recall': dt_recall,\n",
    "    'F1 Score': dt_f1,\n",
    "    'True Negative': dt_tn,\n",
    "    'False Positive': dt_fp,\n",
    "    'False Negative': dt_fn,\n",
    "    'True Positive': dt_tp\n",
    "})"
   ]
  },
  {
   "cell_type": "markdown",
   "id": "d20f2ac3-8740-46a0-b9d1-687e6d99f571",
   "metadata": {},
   "source": [
    "### random forest"
   ]
  },
  {
   "cell_type": "code",
   "execution_count": 21,
   "id": "c4f6b153-b5ec-423d-bde5-3fcd69950a34",
   "metadata": {},
   "outputs": [],
   "source": [
    "rf_params = {'n_estimators': [100, 200], 'max_depth': [10, 20]}\n",
    "rf_grid_search = GridSearchCV(RandomForestClassifier(), rf_params, scoring='accuracy', cv=3, n_jobs=-1)\n",
    "rf_grid_search.fit(X_train_resampled, y_train_resampled)\n",
    "rf_best_model = rf_grid_search.best_estimator_\n",
    "rf_accuracy, rf_precision, rf_recall, rf_f1, rf_tn, rf_fp, rf_fn, rf_tp = evaluate_model(rf_best_model, X_train_resampled, y_train_resampled, X_test, y_test)"
   ]
  },
  {
   "cell_type": "code",
   "execution_count": 22,
   "id": "ad4cddb3-2bb2-4f5b-a042-e02f6b01ca96",
   "metadata": {},
   "outputs": [],
   "source": [
    "results.append({\n",
    "    'Model': 'RandomForest',\n",
    "    'Accuracy': rf_accuracy,\n",
    "    'Precision': rf_precision,\n",
    "    'Recall': rf_recall,\n",
    "    'F1 Score': rf_f1,\n",
    "    'True Negative': rf_tn,\n",
    "    'False Positive': rf_fp,\n",
    "    'False Negative': rf_fn,\n",
    "    'True Positive': rf_tp\n",
    "})"
   ]
  },
  {
   "cell_type": "markdown",
   "id": "aee40b30-b3b0-4e5d-9f7c-e42afb08ecf5",
   "metadata": {},
   "source": [
    "### ada boost"
   ]
  },
  {
   "cell_type": "code",
   "execution_count": 23,
   "id": "db7177b9-abf1-48ba-831a-f3fdbf269d0c",
   "metadata": {},
   "outputs": [
    {
     "name": "stderr",
     "output_type": "stream",
     "text": [
      "C:\\Users\\Sara\\anaconda3\\Lib\\site-packages\\sklearn\\ensemble\\_weight_boosting.py:527: FutureWarning: The SAMME.R algorithm (the default) is deprecated and will be removed in 1.6. Use the SAMME algorithm to circumvent this warning.\n",
      "  warnings.warn(\n"
     ]
    }
   ],
   "source": [
    "ab_params = {'n_estimators': [50, 100]}\n",
    "ab_grid_search = GridSearchCV(AdaBoostClassifier(), ab_params, scoring='accuracy', cv=3, n_jobs=-1)\n",
    "ab_grid_search.fit(X_train_resampled, y_train_resampled)\n",
    "ab_best_model = ab_grid_search.best_estimator_\n",
    "ab_accuracy, ab_precision, ab_recall, ab_f1, ab_tn, ab_fp, ab_fn, ab_tp = evaluate_model(ab_best_model, X_train_resampled, y_train_resampled, X_test, y_test)"
   ]
  },
  {
   "cell_type": "code",
   "execution_count": 24,
   "id": "2b72c984-9b4a-495e-8d67-8d458c58f3f9",
   "metadata": {},
   "outputs": [],
   "source": [
    "results.append({\n",
    "    'Model': 'AdaBoost',\n",
    "    'Accuracy': ab_accuracy,\n",
    "    'Precision': ab_precision,\n",
    "    'Recall': ab_recall,\n",
    "    'F1 Score': ab_f1,\n",
    "    'True Negative': ab_tn,\n",
    "    'False Positive': ab_fp,\n",
    "    'False Negative': ab_fn,\n",
    "    'True Positive': ab_tp\n",
    "})"
   ]
  },
  {
   "cell_type": "markdown",
   "id": "2181ec4d-33f6-4816-9d11-4da7705bfcfa",
   "metadata": {},
   "source": [
    "### bagging"
   ]
  },
  {
   "cell_type": "code",
   "execution_count": 25,
   "id": "60debdca-e768-4101-a095-492471ba3742",
   "metadata": {},
   "outputs": [],
   "source": [
    "bg_params = {'n_estimators': [10, 20]}\n",
    "bg_grid_search = GridSearchCV(BaggingClassifier(), bg_params, scoring='accuracy', cv=3, n_jobs=-1)\n",
    "bg_grid_search.fit(X_train_resampled, y_train_resampled)\n",
    "bg_best_model = bg_grid_search.best_estimator_\n",
    "bg_accuracy, bg_precision, bg_recall, bg_f1, bg_tn, bg_fp, bg_fn, bg_tp = evaluate_model(bg_best_model, X_train_resampled, y_train_resampled, X_test, y_test)"
   ]
  },
  {
   "cell_type": "code",
   "execution_count": 26,
   "id": "8693edc8-b8aa-48aa-b837-16902ee32ce4",
   "metadata": {},
   "outputs": [],
   "source": [
    "results.append({\n",
    "    'Model': 'Bagging',\n",
    "    'Accuracy': bg_accuracy,\n",
    "    'Precision': bg_precision,\n",
    "    'Recall': bg_recall,\n",
    "    'F1 Score': bg_f1,\n",
    "    'True Negative': bg_tn,\n",
    "    'False Positive': bg_fp,\n",
    "    'False Negative': bg_fn,\n",
    "    'True Positive': bg_tp\n",
    "})"
   ]
  },
  {
   "cell_type": "markdown",
   "id": "7f1fa69d-aa6f-49f0-808a-338b4f324197",
   "metadata": {},
   "source": [
    "### XGBoost"
   ]
  },
  {
   "cell_type": "code",
   "execution_count": 27,
   "id": "c8d831b8-c7c9-4f93-9930-a7df581bcbbe",
   "metadata": {},
   "outputs": [
    {
     "name": "stderr",
     "output_type": "stream",
     "text": [
      "C:\\Users\\Sara\\anaconda3\\Lib\\site-packages\\xgboost\\core.py:158: UserWarning: [13:14:06] WARNING: C:\\buildkite-agent\\builds\\buildkite-windows-cpu-autoscaling-group-i-0015a694724fa8361-1\\xgboost\\xgboost-ci-windows\\src\\learner.cc:740: \n",
      "Parameters: { \"use_label_encoder\" } are not used.\n",
      "\n",
      "  warnings.warn(smsg, UserWarning)\n"
     ]
    }
   ],
   "source": [
    "xgb_params = {'n_estimators': [100, 200], 'max_depth': [3, 6]}\n",
    "xgb_grid_search = GridSearchCV(xgb.XGBClassifier(use_label_encoder=False, eval_metric='logloss'), xgb_params, scoring='accuracy', cv=3, n_jobs=-1)\n",
    "xgb_grid_search.fit(X_train_resampled, y_train_resampled)\n",
    "xgb_best_model = xgb_grid_search.best_estimator_\n",
    "xgb_accuracy, xgb_precision, xgb_recall, xgb_f1, xgb_tn, xgb_fp, xgb_fn, xgb_tp = evaluate_model(xgb_best_model, X_train_resampled, y_train_resampled, X_test, y_test)"
   ]
  },
  {
   "cell_type": "code",
   "execution_count": 28,
   "id": "a5c01af3-3d1b-4023-a3db-b7c4589ac32f",
   "metadata": {},
   "outputs": [],
   "source": [
    "results.append({\n",
    "    'Model': 'XGBoost',\n",
    "    'Accuracy': xgb_accuracy,\n",
    "    'Precision': xgb_precision,\n",
    "    'Recall': xgb_recall,\n",
    "    'F1 Score': xgb_f1,\n",
    "    'True Negative': xgb_tn,\n",
    "    'False Positive': xgb_fp,\n",
    "    'False Negative': xgb_fn,\n",
    "    'True Positive': xgb_tp\n",
    "})"
   ]
  },
  {
   "cell_type": "markdown",
   "id": "6618e716-8bc2-4051-827b-6ff7ec644e7c",
   "metadata": {},
   "source": [
    "### lightGBM"
   ]
  },
  {
   "cell_type": "code",
   "execution_count": 29,
   "id": "1150bba8-696a-4e52-bc47-d2c264885287",
   "metadata": {},
   "outputs": [
    {
     "name": "stdout",
     "output_type": "stream",
     "text": [
      "[LightGBM] [Info] Number of positive: 225404, number of negative: 225404\n",
      "[LightGBM] [Info] Auto-choosing col-wise multi-threading, the overhead of testing was 0.049926 seconds.\n",
      "You can set `force_col_wise=true` to remove the overhead.\n",
      "[LightGBM] [Info] Total Bins 7650\n",
      "[LightGBM] [Info] Number of data points in the train set: 450808, number of used features: 30\n",
      "[LightGBM] [Info] [binary:BoostFromScore]: pavg=0.500000 -> initscore=0.000000\n"
     ]
    }
   ],
   "source": [
    "lgb_params = {'n_estimators': [100, 200], 'num_leaves': [31, 63]}\n",
    "lgb_grid_search = GridSearchCV(lgb.LGBMClassifier(), lgb_params, scoring='accuracy', cv=3, n_jobs=-1)\n",
    "lgb_grid_search.fit(X_train_resampled, y_train_resampled)\n",
    "lgb_best_model = lgb_grid_search.best_estimator_\n",
    "lgb_accuracy, lgb_precision, lgb_recall, lgb_f1, lgb_tn, lgb_fp, lgb_fn, lgb_tp = evaluate_model(lgb_best_model, X_train_resampled, y_train_resampled, X_test, y_test)"
   ]
  },
  {
   "cell_type": "code",
   "execution_count": 30,
   "id": "0e17ded2-66b6-4ac4-86c0-0338add8a795",
   "metadata": {},
   "outputs": [],
   "source": [
    "results.append({\n",
    "    'Model': 'LightGBM',\n",
    "    'Accuracy': lgb_accuracy,\n",
    "    'Precision': lgb_precision,\n",
    "    'Recall': lgb_recall,\n",
    "    'F1 Score': lgb_f1,\n",
    "    'True Negative': lgb_tn,\n",
    "    'False Positive': lgb_fp,\n",
    "    'False Negative': lgb_fn,\n",
    "    'True Positive': lgb_tp\n",
    "})"
   ]
  },
  {
   "cell_type": "markdown",
   "id": "d267cf35-ba93-457f-a2d0-25212f12a436",
   "metadata": {},
   "source": [
    "### CatBoost"
   ]
  },
  {
   "cell_type": "code",
   "execution_count": 31,
   "id": "63ab1b89-5d0f-4fca-9e52-3659a883320b",
   "metadata": {},
   "outputs": [],
   "source": [
    "cb_params = {'iterations': [100, 200], 'depth': [4, 6]}\n",
    "cb_grid_search = GridSearchCV(catb.CatBoostClassifier(verbose=0), cb_params, scoring='accuracy', cv=3, n_jobs=-1)\n",
    "cb_grid_search.fit(X_train_resampled, y_train_resampled)\n",
    "cb_best_model = cb_grid_search.best_estimator_\n",
    "cb_accuracy, cb_precision, cb_recall, cb_f1, cb_tn, cb_fp, cb_fn, cb_tp = evaluate_model(cb_best_model, X_train_resampled, y_train_resampled, X_test, y_test)"
   ]
  },
  {
   "cell_type": "code",
   "execution_count": 32,
   "id": "ecf677e2-ec5a-454d-8f21-ea3dacaa4fa5",
   "metadata": {},
   "outputs": [],
   "source": [
    "results.append({\n",
    "    'Model': 'CatBoost',\n",
    "    'Accuracy': cb_accuracy,\n",
    "    'Precision': cb_precision,\n",
    "    'Recall': cb_recall,\n",
    "    'F1 Score': cb_f1,\n",
    "    'True Negative': cb_tn,\n",
    "    'False Positive': cb_fp,\n",
    "    'False Negative': cb_fn,\n",
    "    'True Positive': cb_tp\n",
    "})"
   ]
  },
  {
   "cell_type": "markdown",
   "id": "cdeea3b0-15d2-4493-96a4-62ef9be622ec",
   "metadata": {},
   "source": [
    "## evaluating the models"
   ]
  },
  {
   "cell_type": "code",
   "execution_count": 33,
   "id": "b80e6785-ae33-489a-87c0-d446858a16fe",
   "metadata": {},
   "outputs": [],
   "source": [
    "result_df = pd.DataFrame(results)\n",
    "result_df.sort_values(by='Accuracy', ascending=False, inplace=True)"
   ]
  },
  {
   "cell_type": "code",
   "execution_count": 34,
   "id": "ee8f5c30-85ec-457f-a480-c3093fc0d339",
   "metadata": {},
   "outputs": [
    {
     "data": {
      "text/html": [
       "<div>\n",
       "<style scoped>\n",
       "    .dataframe tbody tr th:only-of-type {\n",
       "        vertical-align: middle;\n",
       "    }\n",
       "\n",
       "    .dataframe tbody tr th {\n",
       "        vertical-align: top;\n",
       "    }\n",
       "\n",
       "    .dataframe thead th {\n",
       "        text-align: right;\n",
       "    }\n",
       "</style>\n",
       "<table border=\"1\" class=\"dataframe\">\n",
       "  <thead>\n",
       "    <tr style=\"text-align: right;\">\n",
       "      <th></th>\n",
       "      <th>Model</th>\n",
       "      <th>Accuracy</th>\n",
       "      <th>Precision</th>\n",
       "      <th>Recall</th>\n",
       "      <th>F1 Score</th>\n",
       "      <th>True Negative</th>\n",
       "      <th>False Positive</th>\n",
       "      <th>False Negative</th>\n",
       "      <th>True Positive</th>\n",
       "    </tr>\n",
       "  </thead>\n",
       "  <tbody>\n",
       "    <tr>\n",
       "      <th>5</th>\n",
       "      <td>LightGBM</td>\n",
       "      <td>0.999539</td>\n",
       "      <td>0.692308</td>\n",
       "      <td>0.658537</td>\n",
       "      <td>0.675000</td>\n",
       "      <td>56339</td>\n",
       "      <td>12</td>\n",
       "      <td>14</td>\n",
       "      <td>27</td>\n",
       "    </tr>\n",
       "    <tr>\n",
       "      <th>4</th>\n",
       "      <td>XGBoost</td>\n",
       "      <td>0.999468</td>\n",
       "      <td>0.634146</td>\n",
       "      <td>0.634146</td>\n",
       "      <td>0.634146</td>\n",
       "      <td>56336</td>\n",
       "      <td>15</td>\n",
       "      <td>15</td>\n",
       "      <td>26</td>\n",
       "    </tr>\n",
       "    <tr>\n",
       "      <th>1</th>\n",
       "      <td>RandomForest</td>\n",
       "      <td>0.999078</td>\n",
       "      <td>0.406780</td>\n",
       "      <td>0.585366</td>\n",
       "      <td>0.480000</td>\n",
       "      <td>56316</td>\n",
       "      <td>35</td>\n",
       "      <td>17</td>\n",
       "      <td>24</td>\n",
       "    </tr>\n",
       "    <tr>\n",
       "      <th>3</th>\n",
       "      <td>Bagging</td>\n",
       "      <td>0.999042</td>\n",
       "      <td>0.381818</td>\n",
       "      <td>0.512195</td>\n",
       "      <td>0.437500</td>\n",
       "      <td>56317</td>\n",
       "      <td>34</td>\n",
       "      <td>20</td>\n",
       "      <td>21</td>\n",
       "    </tr>\n",
       "    <tr>\n",
       "      <th>6</th>\n",
       "      <td>CatBoost</td>\n",
       "      <td>0.997305</td>\n",
       "      <td>0.146497</td>\n",
       "      <td>0.560976</td>\n",
       "      <td>0.232323</td>\n",
       "      <td>56217</td>\n",
       "      <td>134</td>\n",
       "      <td>18</td>\n",
       "      <td>23</td>\n",
       "    </tr>\n",
       "    <tr>\n",
       "      <th>0</th>\n",
       "      <td>DecisionTree</td>\n",
       "      <td>0.990938</td>\n",
       "      <td>0.049808</td>\n",
       "      <td>0.634146</td>\n",
       "      <td>0.092362</td>\n",
       "      <td>55855</td>\n",
       "      <td>496</td>\n",
       "      <td>15</td>\n",
       "      <td>26</td>\n",
       "    </tr>\n",
       "    <tr>\n",
       "      <th>2</th>\n",
       "      <td>AdaBoost</td>\n",
       "      <td>0.974819</td>\n",
       "      <td>0.022837</td>\n",
       "      <td>0.804878</td>\n",
       "      <td>0.044415</td>\n",
       "      <td>54939</td>\n",
       "      <td>1412</td>\n",
       "      <td>8</td>\n",
       "      <td>33</td>\n",
       "    </tr>\n",
       "  </tbody>\n",
       "</table>\n",
       "</div>"
      ],
      "text/plain": [
       "          Model  Accuracy  Precision    Recall  F1 Score  True Negative  \\\n",
       "5      LightGBM  0.999539   0.692308  0.658537  0.675000          56339   \n",
       "4       XGBoost  0.999468   0.634146  0.634146  0.634146          56336   \n",
       "1  RandomForest  0.999078   0.406780  0.585366  0.480000          56316   \n",
       "3       Bagging  0.999042   0.381818  0.512195  0.437500          56317   \n",
       "6      CatBoost  0.997305   0.146497  0.560976  0.232323          56217   \n",
       "0  DecisionTree  0.990938   0.049808  0.634146  0.092362          55855   \n",
       "2      AdaBoost  0.974819   0.022837  0.804878  0.044415          54939   \n",
       "\n",
       "   False Positive  False Negative  True Positive  \n",
       "5              12              14             27  \n",
       "4              15              15             26  \n",
       "1              35              17             24  \n",
       "3              34              20             21  \n",
       "6             134              18             23  \n",
       "0             496              15             26  \n",
       "2            1412               8             33  "
      ]
     },
     "execution_count": 34,
     "metadata": {},
     "output_type": "execute_result"
    }
   ],
   "source": [
    "result_df"
   ]
  },
  {
   "cell_type": "code",
   "execution_count": null,
   "id": "70c1906c-1bcb-4411-9916-b4b9cdcd2a82",
   "metadata": {},
   "outputs": [],
   "source": []
  }
 ],
 "metadata": {
  "kernelspec": {
   "display_name": "Python 3 (ipykernel)",
   "language": "python",
   "name": "python3"
  },
  "language_info": {
   "codemirror_mode": {
    "name": "ipython",
    "version": 3
   },
   "file_extension": ".py",
   "mimetype": "text/x-python",
   "name": "python",
   "nbconvert_exporter": "python",
   "pygments_lexer": "ipython3",
   "version": "3.11.7"
  }
 },
 "nbformat": 4,
 "nbformat_minor": 5
}
